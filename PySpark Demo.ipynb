{
 "cells": [
  {
   "cell_type": "code",
   "execution_count": 1,
   "id": "586f54ba",
   "metadata": {},
   "outputs": [],
   "source": [
    "import findspark\n",
    "findspark.init()"
   ]
  },
  {
   "cell_type": "code",
   "execution_count": 8,
   "id": "59f55372",
   "metadata": {},
   "outputs": [],
   "source": [
    "from pyspark.sql import SparkSession\n",
    "from pyspark.sql.types import StructField, StringType, IntegerType, StructType\n",
    "\n",
    "# setx PYSPARK_PYTHON <Python Path >\n",
    "\n",
    "# go to the spark folder bin open terminal and type spark-shell"
   ]
  },
  {
   "cell_type": "code",
   "execution_count": 3,
   "id": "0f432ff4",
   "metadata": {},
   "outputs": [],
   "source": [
    "spark = SparkSession.builder.appName('demoApp').getOrCreate()"
   ]
  },
  {
   "cell_type": "code",
   "execution_count": 4,
   "id": "1417b824",
   "metadata": {},
   "outputs": [],
   "source": [
    "df = spark.read.json(\"members.json\")"
   ]
  },
  {
   "cell_type": "code",
   "execution_count": 5,
   "id": "f907b588",
   "metadata": {},
   "outputs": [
    {
     "name": "stdout",
     "output_type": "stream",
     "text": [
      "+---+-------+\n",
      "|age|   name|\n",
      "+---+-------+\n",
      "| 40|Sajeesh|\n",
      "| 30|   Saby|\n",
      "| 10| Pranal|\n",
      "+---+-------+\n",
      "\n"
     ]
    }
   ],
   "source": [
    "df.show()"
   ]
  },
  {
   "cell_type": "code",
   "execution_count": 6,
   "id": "0cbfa146",
   "metadata": {},
   "outputs": [
    {
     "name": "stdout",
     "output_type": "stream",
     "text": [
      "root\n",
      " |-- age: long (nullable = true)\n",
      " |-- name: string (nullable = true)\n",
      "\n"
     ]
    }
   ],
   "source": [
    "df.printSchema()"
   ]
  },
  {
   "cell_type": "code",
   "execution_count": 7,
   "id": "602a041b",
   "metadata": {},
   "outputs": [
    {
     "name": "stdout",
     "output_type": "stream",
     "text": [
      "+-------+------------------+-------+\n",
      "|summary|               age|   name|\n",
      "+-------+------------------+-------+\n",
      "|  count|                 3|      3|\n",
      "|   mean|26.666666666666668|   null|\n",
      "| stddev|15.275252316519467|   null|\n",
      "|    min|                10| Pranal|\n",
      "|    max|                40|Sajeesh|\n",
      "+-------+------------------+-------+\n",
      "\n"
     ]
    }
   ],
   "source": [
    "df.describe().show()"
   ]
  },
  {
   "cell_type": "code",
   "execution_count": 10,
   "id": "ce8dd16f",
   "metadata": {},
   "outputs": [],
   "source": [
    "data_schema = [StructField(\"age\", IntegerType()), StructField(\"name\", StringType())]"
   ]
  },
  {
   "cell_type": "code",
   "execution_count": 11,
   "id": "ba4ad9fb",
   "metadata": {},
   "outputs": [],
   "source": [
    "type_f = StructType(fields=data_schema)"
   ]
  },
  {
   "cell_type": "code",
   "execution_count": 12,
   "id": "d4cbaafe",
   "metadata": {},
   "outputs": [],
   "source": [
    "df2 = spark.read.json(\"members.json\", schema=type_f)"
   ]
  },
  {
   "cell_type": "code",
   "execution_count": 13,
   "id": "59943270",
   "metadata": {},
   "outputs": [
    {
     "name": "stdout",
     "output_type": "stream",
     "text": [
      "root\n",
      " |-- age: integer (nullable = true)\n",
      " |-- name: string (nullable = true)\n",
      "\n"
     ]
    }
   ],
   "source": [
    "df2.printSchema()"
   ]
  },
  {
   "cell_type": "code",
   "execution_count": 14,
   "id": "9872248d",
   "metadata": {},
   "outputs": [
    {
     "data": {
      "text/plain": [
       "Column<b'age'>"
      ]
     },
     "execution_count": 14,
     "metadata": {},
     "output_type": "execute_result"
    }
   ],
   "source": [
    "df2['age']"
   ]
  },
  {
   "cell_type": "code",
   "execution_count": 16,
   "id": "023f6618",
   "metadata": {},
   "outputs": [
    {
     "name": "stdout",
     "output_type": "stream",
     "text": [
      "+---+\n",
      "|age|\n",
      "+---+\n",
      "| 40|\n",
      "| 30|\n",
      "| 10|\n",
      "+---+\n",
      "\n"
     ]
    }
   ],
   "source": [
    "df2.select('age').show()"
   ]
  },
  {
   "cell_type": "code",
   "execution_count": 17,
   "id": "22eb76d3",
   "metadata": {},
   "outputs": [
    {
     "data": {
      "text/plain": [
       "[Row(age=40, name='Sajeesh'), Row(age=30, name='Saby')]"
      ]
     },
     "execution_count": 17,
     "metadata": {},
     "output_type": "execute_result"
    }
   ],
   "source": [
    "df2.head(2)"
   ]
  },
  {
   "cell_type": "code",
   "execution_count": 18,
   "id": "abfc5633",
   "metadata": {},
   "outputs": [
    {
     "data": {
      "text/plain": [
       "Row(age=40, name='Sajeesh')"
      ]
     },
     "execution_count": 18,
     "metadata": {},
     "output_type": "execute_result"
    }
   ],
   "source": [
    "df2.head()"
   ]
  },
  {
   "cell_type": "code",
   "execution_count": 19,
   "id": "d7cba4e6",
   "metadata": {},
   "outputs": [
    {
     "name": "stdout",
     "output_type": "stream",
     "text": [
      "+---+-------+\n",
      "|age|   name|\n",
      "+---+-------+\n",
      "| 40|Sajeesh|\n",
      "| 30|   Saby|\n",
      "| 10| Pranal|\n",
      "+---+-------+\n",
      "\n"
     ]
    }
   ],
   "source": [
    "df2.show()"
   ]
  },
  {
   "cell_type": "code",
   "execution_count": 20,
   "id": "5456c7a6",
   "metadata": {},
   "outputs": [],
   "source": [
    "df4 = spark.read.csv(\"titanic.csv\", header=True, inferSchema=True)\n"
   ]
  },
  {
   "cell_type": "code",
   "execution_count": 21,
   "id": "dd873682",
   "metadata": {},
   "outputs": [
    {
     "name": "stdout",
     "output_type": "stream",
     "text": [
      "+------+--------+--------------------+------+------+-----+-----+--------+--------+-------+--------+\n",
      "|pclass|survived|                name|   sex|   age|sibsp|parch|  ticket|    fare|  cabin|embarked|\n",
      "+------+--------+--------------------+------+------+-----+-----+--------+--------+-------+--------+\n",
      "|     1|       1|Allen, Miss. Elis...|female|  29.0|    0|    0|   24160|211.3375|     B5|       S|\n",
      "|     1|       1|Allison, Master. ...|  male|0.9167|    1|    2|  113781|  151.55|C22 C26|       S|\n",
      "|     1|       0|Allison, Miss. He...|female|   2.0|    1|    2|  113781|  151.55|C22 C26|       S|\n",
      "|     1|       0|Allison, Mr. Huds...|  male|  30.0|    1|    2|  113781|  151.55|C22 C26|       S|\n",
      "|     1|       0|Allison, Mrs. Hud...|female|  25.0|    1|    2|  113781|  151.55|C22 C26|       S|\n",
      "|     1|       1| Anderson, Mr. Harry|  male|  48.0|    0|    0|   19952|   26.55|    E12|       S|\n",
      "|     1|       1|Andrews, Miss. Ko...|female|  63.0|    1|    0|   13502| 77.9583|     D7|       S|\n",
      "|     1|       0|Andrews, Mr. Thom...|  male|  39.0|    0|    0|  112050|     0.0|    A36|       S|\n",
      "|     1|       1|Appleton, Mrs. Ed...|female|  53.0|    2|    0|   11769| 51.4792|   C101|       S|\n",
      "|     1|       0|Artagaveytia, Mr....|  male|  71.0|    0|    0|PC 17609| 49.5042|   null|       C|\n",
      "|     1|       0|Astor, Col. John ...|  male|  47.0|    1|    0|PC 17757| 227.525|C62 C64|       C|\n",
      "|     1|       1|Astor, Mrs. John ...|female|  18.0|    1|    0|PC 17757| 227.525|C62 C64|       C|\n",
      "|     1|       1|Aubart, Mme. Leon...|female|  24.0|    0|    0|PC 17477|    69.3|    B35|       C|\n",
      "|     1|       1|\"Barber, Miss. El...|female|  26.0|    0|    0|   19877|   78.85|   null|       S|\n",
      "|     1|       1|Barkworth, Mr. Al...|  male|  80.0|    0|    0|   27042|    30.0|    A23|       S|\n",
      "|     1|       0| Baumann, Mr. John D|  male|  null|    0|    0|PC 17318|  25.925|   null|       S|\n",
      "|     1|       0|Baxter, Mr. Quigg...|  male|  24.0|    0|    1|PC 17558|247.5208|B58 B60|       C|\n",
      "|     1|       1|Baxter, Mrs. Jame...|female|  50.0|    0|    1|PC 17558|247.5208|B58 B60|       C|\n",
      "|     1|       1|Bazzani, Miss. Al...|female|  32.0|    0|    0|   11813| 76.2917|    D15|       C|\n",
      "|     1|       0|Beattie, Mr. Thomson|  male|  36.0|    0|    0|   13050| 75.2417|     C6|       C|\n",
      "+------+--------+--------------------+------+------+-----+-----+--------+--------+-------+--------+\n",
      "only showing top 20 rows\n",
      "\n"
     ]
    }
   ],
   "source": [
    "df4.show()"
   ]
  },
  {
   "cell_type": "code",
   "execution_count": 22,
   "id": "097de14d",
   "metadata": {},
   "outputs": [
    {
     "name": "stdout",
     "output_type": "stream",
     "text": [
      "root\n",
      " |-- pclass: integer (nullable = true)\n",
      " |-- survived: integer (nullable = true)\n",
      " |-- name: string (nullable = true)\n",
      " |-- sex: string (nullable = true)\n",
      " |-- age: double (nullable = true)\n",
      " |-- sibsp: integer (nullable = true)\n",
      " |-- parch: integer (nullable = true)\n",
      " |-- ticket: string (nullable = true)\n",
      " |-- fare: double (nullable = true)\n",
      " |-- cabin: string (nullable = true)\n",
      " |-- embarked: string (nullable = true)\n",
      "\n"
     ]
    }
   ],
   "source": [
    "df4.printSchema()"
   ]
  },
  {
   "cell_type": "code",
   "execution_count": 23,
   "id": "6bb4c263",
   "metadata": {},
   "outputs": [],
   "source": [
    "df5 = spark.read.csv(\"titanic.csv\", header=True, inferSchema=False)"
   ]
  },
  {
   "cell_type": "code",
   "execution_count": 24,
   "id": "a21ac6f8",
   "metadata": {},
   "outputs": [
    {
     "name": "stdout",
     "output_type": "stream",
     "text": [
      "root\n",
      " |-- pclass: string (nullable = true)\n",
      " |-- survived: string (nullable = true)\n",
      " |-- name: string (nullable = true)\n",
      " |-- sex: string (nullable = true)\n",
      " |-- age: string (nullable = true)\n",
      " |-- sibsp: string (nullable = true)\n",
      " |-- parch: string (nullable = true)\n",
      " |-- ticket: string (nullable = true)\n",
      " |-- fare: string (nullable = true)\n",
      " |-- cabin: string (nullable = true)\n",
      " |-- embarked: string (nullable = true)\n",
      "\n"
     ]
    }
   ],
   "source": [
    "df5.printSchema()"
   ]
  },
  {
   "cell_type": "code",
   "execution_count": 25,
   "id": "469b5df3",
   "metadata": {},
   "outputs": [
    {
     "data": {
      "text/plain": [
       "['pclass',\n",
       " 'survived',\n",
       " 'name',\n",
       " 'sex',\n",
       " 'age',\n",
       " 'sibsp',\n",
       " 'parch',\n",
       " 'ticket',\n",
       " 'fare',\n",
       " 'cabin',\n",
       " 'embarked']"
      ]
     },
     "execution_count": 25,
     "metadata": {},
     "output_type": "execute_result"
    }
   ],
   "source": [
    "df4.columns"
   ]
  },
  {
   "cell_type": "code",
   "execution_count": 26,
   "id": "117753cf",
   "metadata": {},
   "outputs": [
    {
     "data": {
      "text/plain": [
       "[('pclass', 'int'),\n",
       " ('survived', 'int'),\n",
       " ('name', 'string'),\n",
       " ('sex', 'string'),\n",
       " ('age', 'double'),\n",
       " ('sibsp', 'int'),\n",
       " ('parch', 'int'),\n",
       " ('ticket', 'string'),\n",
       " ('fare', 'double'),\n",
       " ('cabin', 'string'),\n",
       " ('embarked', 'string')]"
      ]
     },
     "execution_count": 26,
     "metadata": {},
     "output_type": "execute_result"
    }
   ],
   "source": [
    "df4.dtypes"
   ]
  },
  {
   "cell_type": "code",
   "execution_count": 28,
   "id": "f7fbbee5",
   "metadata": {},
   "outputs": [
    {
     "data": {
      "text/plain": [
       "[Row(pclass=1, survived=1, name='Allen, Miss. Elisabeth Walton', sex='female', age=29.0, sibsp=0, parch=0, ticket='24160', fare=211.3375, cabin='B5', embarked='S'),\n",
       " Row(pclass=1, survived=1, name='Allison, Master. Hudson Trevor', sex='male', age=0.9167, sibsp=1, parch=2, ticket='113781', fare=151.55, cabin='C22 C26', embarked='S'),\n",
       " Row(pclass=1, survived=0, name='Allison, Miss. Helen Loraine', sex='female', age=2.0, sibsp=1, parch=2, ticket='113781', fare=151.55, cabin='C22 C26', embarked='S'),\n",
       " Row(pclass=1, survived=0, name='Allison, Mr. Hudson Joshua Creighton', sex='male', age=30.0, sibsp=1, parch=2, ticket='113781', fare=151.55, cabin='C22 C26', embarked='S'),\n",
       " Row(pclass=1, survived=0, name='Allison, Mrs. Hudson J C (Bessie Waldo Daniels)', sex='female', age=25.0, sibsp=1, parch=2, ticket='113781', fare=151.55, cabin='C22 C26', embarked='S'),\n",
       " Row(pclass=1, survived=1, name='Anderson, Mr. Harry', sex='male', age=48.0, sibsp=0, parch=0, ticket='19952', fare=26.55, cabin='E12', embarked='S'),\n",
       " Row(pclass=1, survived=1, name='Andrews, Miss. Kornelia Theodosia', sex='female', age=63.0, sibsp=1, parch=0, ticket='13502', fare=77.9583, cabin='D7', embarked='S'),\n",
       " Row(pclass=1, survived=0, name='Andrews, Mr. Thomas Jr', sex='male', age=39.0, sibsp=0, parch=0, ticket='112050', fare=0.0, cabin='A36', embarked='S'),\n",
       " Row(pclass=1, survived=1, name='Appleton, Mrs. Edward Dale (Charlotte Lamson)', sex='female', age=53.0, sibsp=2, parch=0, ticket='11769', fare=51.4792, cabin='C101', embarked='S'),\n",
       " Row(pclass=1, survived=0, name='Artagaveytia, Mr. Ramon', sex='male', age=71.0, sibsp=0, parch=0, ticket='PC 17609', fare=49.5042, cabin=None, embarked='C')]"
      ]
     },
     "execution_count": 28,
     "metadata": {},
     "output_type": "execute_result"
    }
   ],
   "source": [
    "df4.head(10)"
   ]
  },
  {
   "cell_type": "code",
   "execution_count": 29,
   "id": "a6667880",
   "metadata": {},
   "outputs": [],
   "source": [
    "df4.createOrReplaceTempView(\"titanic\")"
   ]
  },
  {
   "cell_type": "code",
   "execution_count": 30,
   "id": "d54f9a8a",
   "metadata": {},
   "outputs": [
    {
     "name": "stdout",
     "output_type": "stream",
     "text": [
      "+------+--------+--------------------+------+------+-----+-----+--------+--------+-------+--------+\n",
      "|pclass|survived|                name|   sex|   age|sibsp|parch|  ticket|    fare|  cabin|embarked|\n",
      "+------+--------+--------------------+------+------+-----+-----+--------+--------+-------+--------+\n",
      "|     1|       1|Allen, Miss. Elis...|female|  29.0|    0|    0|   24160|211.3375|     B5|       S|\n",
      "|     1|       1|Allison, Master. ...|  male|0.9167|    1|    2|  113781|  151.55|C22 C26|       S|\n",
      "|     1|       0|Allison, Miss. He...|female|   2.0|    1|    2|  113781|  151.55|C22 C26|       S|\n",
      "|     1|       0|Allison, Mr. Huds...|  male|  30.0|    1|    2|  113781|  151.55|C22 C26|       S|\n",
      "|     1|       0|Allison, Mrs. Hud...|female|  25.0|    1|    2|  113781|  151.55|C22 C26|       S|\n",
      "|     1|       1| Anderson, Mr. Harry|  male|  48.0|    0|    0|   19952|   26.55|    E12|       S|\n",
      "|     1|       1|Andrews, Miss. Ko...|female|  63.0|    1|    0|   13502| 77.9583|     D7|       S|\n",
      "|     1|       0|Andrews, Mr. Thom...|  male|  39.0|    0|    0|  112050|     0.0|    A36|       S|\n",
      "|     1|       1|Appleton, Mrs. Ed...|female|  53.0|    2|    0|   11769| 51.4792|   C101|       S|\n",
      "|     1|       0|Artagaveytia, Mr....|  male|  71.0|    0|    0|PC 17609| 49.5042|   null|       C|\n",
      "|     1|       0|Astor, Col. John ...|  male|  47.0|    1|    0|PC 17757| 227.525|C62 C64|       C|\n",
      "|     1|       1|Astor, Mrs. John ...|female|  18.0|    1|    0|PC 17757| 227.525|C62 C64|       C|\n",
      "|     1|       1|Aubart, Mme. Leon...|female|  24.0|    0|    0|PC 17477|    69.3|    B35|       C|\n",
      "|     1|       1|\"Barber, Miss. El...|female|  26.0|    0|    0|   19877|   78.85|   null|       S|\n",
      "|     1|       1|Barkworth, Mr. Al...|  male|  80.0|    0|    0|   27042|    30.0|    A23|       S|\n",
      "|     1|       0| Baumann, Mr. John D|  male|  null|    0|    0|PC 17318|  25.925|   null|       S|\n",
      "|     1|       0|Baxter, Mr. Quigg...|  male|  24.0|    0|    1|PC 17558|247.5208|B58 B60|       C|\n",
      "|     1|       1|Baxter, Mrs. Jame...|female|  50.0|    0|    1|PC 17558|247.5208|B58 B60|       C|\n",
      "|     1|       1|Bazzani, Miss. Al...|female|  32.0|    0|    0|   11813| 76.2917|    D15|       C|\n",
      "|     1|       0|Beattie, Mr. Thomson|  male|  36.0|    0|    0|   13050| 75.2417|     C6|       C|\n",
      "+------+--------+--------------------+------+------+-----+-----+--------+--------+-------+--------+\n",
      "only showing top 20 rows\n",
      "\n"
     ]
    }
   ],
   "source": [
    "spark.sql(\"SELECT * from titanic\").show()"
   ]
  },
  {
   "cell_type": "code",
   "execution_count": 31,
   "id": "1290f137",
   "metadata": {},
   "outputs": [
    {
     "name": "stdout",
     "output_type": "stream",
     "text": [
      "+------+--------+--------------------+------+------+-----+-----+--------+--------+-------+--------+\n",
      "|pclass|survived|                name|   sex|   age|sibsp|parch|  ticket|    fare|  cabin|embarked|\n",
      "+------+--------+--------------------+------+------+-----+-----+--------+--------+-------+--------+\n",
      "|     1|       1|Allen, Miss. Elis...|female|  29.0|    0|    0|   24160|211.3375|     B5|       S|\n",
      "|     1|       1|Allison, Master. ...|  male|0.9167|    1|    2|  113781|  151.55|C22 C26|       S|\n",
      "|     1|       1| Anderson, Mr. Harry|  male|  48.0|    0|    0|   19952|   26.55|    E12|       S|\n",
      "|     1|       1|Andrews, Miss. Ko...|female|  63.0|    1|    0|   13502| 77.9583|     D7|       S|\n",
      "|     1|       1|Appleton, Mrs. Ed...|female|  53.0|    2|    0|   11769| 51.4792|   C101|       S|\n",
      "|     1|       1|Astor, Mrs. John ...|female|  18.0|    1|    0|PC 17757| 227.525|C62 C64|       C|\n",
      "|     1|       1|Aubart, Mme. Leon...|female|  24.0|    0|    0|PC 17477|    69.3|    B35|       C|\n",
      "|     1|       1|\"Barber, Miss. El...|female|  26.0|    0|    0|   19877|   78.85|   null|       S|\n",
      "|     1|       1|Barkworth, Mr. Al...|  male|  80.0|    0|    0|   27042|    30.0|    A23|       S|\n",
      "|     1|       1|Baxter, Mrs. Jame...|female|  50.0|    0|    1|PC 17558|247.5208|B58 B60|       C|\n",
      "|     1|       1|Bazzani, Miss. Al...|female|  32.0|    0|    0|   11813| 76.2917|    D15|       C|\n",
      "|     1|       1|Beckwith, Mr. Ric...|  male|  37.0|    1|    1|   11751| 52.5542|    D35|       S|\n",
      "|     1|       1|Beckwith, Mrs. Ri...|female|  47.0|    1|    1|   11751| 52.5542|    D35|       S|\n",
      "|     1|       1|Behr, Mr. Karl Ho...|  male|  26.0|    0|    0|  111369|    30.0|   C148|       C|\n",
      "|     1|       1|Bidois, Miss. Ros...|female|  42.0|    0|    0|PC 17757| 227.525|   null|       C|\n",
      "|     1|       1|   Bird, Miss. Ellen|female|  29.0|    0|    0|PC 17483|221.7792|    C97|       S|\n",
      "|     1|       1|Bishop, Mr. Dicki...|  male|  25.0|    1|    0|   11967| 91.0792|    B49|       C|\n",
      "|     1|       1|Bishop, Mrs. Dick...|female|  19.0|    1|    0|   11967| 91.0792|    B49|       C|\n",
      "|     1|       1|Bissette, Miss. A...|female|  35.0|    0|    0|PC 17760|135.6333|    C99|       S|\n",
      "|     1|       1|Bjornstrom-Steffa...|  male|  28.0|    0|    0|  110564|   26.55|    C52|       S|\n",
      "+------+--------+--------------------+------+------+-----+-----+--------+--------+-------+--------+\n",
      "only showing top 20 rows\n",
      "\n"
     ]
    }
   ],
   "source": [
    "spark.sql(\"SELECT * from titanic where survived = 1\").show()"
   ]
  },
  {
   "cell_type": "code",
   "execution_count": 35,
   "id": "b85d3b7b",
   "metadata": {},
   "outputs": [
    {
     "name": "stdout",
     "output_type": "stream",
     "text": [
      "+------+--------+--------------------+------+------+-----+-----+--------+--------+-------+--------+--------+\n",
      "|pclass|survived|                name|   sex|   age|sibsp|parch|  ticket|    fare|  cabin|embarked|half_age|\n",
      "+------+--------+--------------------+------+------+-----+-----+--------+--------+-------+--------+--------+\n",
      "|     1|       1|Allen, Miss. Elis...|female|  29.0|    0|    0|   24160|211.3375|     B5|       S|    14.5|\n",
      "|     1|       1|Allison, Master. ...|  male|0.9167|    1|    2|  113781|  151.55|C22 C26|       S| 0.45835|\n",
      "|     1|       0|Allison, Miss. He...|female|   2.0|    1|    2|  113781|  151.55|C22 C26|       S|     1.0|\n",
      "|     1|       0|Allison, Mr. Huds...|  male|  30.0|    1|    2|  113781|  151.55|C22 C26|       S|    15.0|\n",
      "|     1|       0|Allison, Mrs. Hud...|female|  25.0|    1|    2|  113781|  151.55|C22 C26|       S|    12.5|\n",
      "|     1|       1| Anderson, Mr. Harry|  male|  48.0|    0|    0|   19952|   26.55|    E12|       S|    24.0|\n",
      "|     1|       1|Andrews, Miss. Ko...|female|  63.0|    1|    0|   13502| 77.9583|     D7|       S|    31.5|\n",
      "|     1|       0|Andrews, Mr. Thom...|  male|  39.0|    0|    0|  112050|     0.0|    A36|       S|    19.5|\n",
      "|     1|       1|Appleton, Mrs. Ed...|female|  53.0|    2|    0|   11769| 51.4792|   C101|       S|    26.5|\n",
      "|     1|       0|Artagaveytia, Mr....|  male|  71.0|    0|    0|PC 17609| 49.5042|   null|       C|    35.5|\n",
      "|     1|       0|Astor, Col. John ...|  male|  47.0|    1|    0|PC 17757| 227.525|C62 C64|       C|    23.5|\n",
      "|     1|       1|Astor, Mrs. John ...|female|  18.0|    1|    0|PC 17757| 227.525|C62 C64|       C|     9.0|\n",
      "|     1|       1|Aubart, Mme. Leon...|female|  24.0|    0|    0|PC 17477|    69.3|    B35|       C|    12.0|\n",
      "|     1|       1|\"Barber, Miss. El...|female|  26.0|    0|    0|   19877|   78.85|   null|       S|    13.0|\n",
      "|     1|       1|Barkworth, Mr. Al...|  male|  80.0|    0|    0|   27042|    30.0|    A23|       S|    40.0|\n",
      "|     1|       0| Baumann, Mr. John D|  male|  null|    0|    0|PC 17318|  25.925|   null|       S|    null|\n",
      "|     1|       0|Baxter, Mr. Quigg...|  male|  24.0|    0|    1|PC 17558|247.5208|B58 B60|       C|    12.0|\n",
      "|     1|       1|Baxter, Mrs. Jame...|female|  50.0|    0|    1|PC 17558|247.5208|B58 B60|       C|    25.0|\n",
      "|     1|       1|Bazzani, Miss. Al...|female|  32.0|    0|    0|   11813| 76.2917|    D15|       C|    16.0|\n",
      "|     1|       0|Beattie, Mr. Thomson|  male|  36.0|    0|    0|   13050| 75.2417|     C6|       C|    18.0|\n",
      "+------+--------+--------------------+------+------+-----+-----+--------+--------+-------+--------+--------+\n",
      "only showing top 20 rows\n",
      "\n"
     ]
    }
   ],
   "source": [
    "df4.withColumn('half_age', df4['age'] / 2).show()"
   ]
  },
  {
   "cell_type": "code",
   "execution_count": 37,
   "id": "d8de7426",
   "metadata": {},
   "outputs": [
    {
     "name": "stdout",
     "output_type": "stream",
     "text": [
      "+------+--------+--------------------+------+------+-----+-----+--------+--------+-------+--------+\n",
      "|pclass|survived|            new_name|   sex|   age|sibsp|parch|  ticket|    fare|  cabin|embarked|\n",
      "+------+--------+--------------------+------+------+-----+-----+--------+--------+-------+--------+\n",
      "|     1|       1|Allen, Miss. Elis...|female|  29.0|    0|    0|   24160|211.3375|     B5|       S|\n",
      "|     1|       1|Allison, Master. ...|  male|0.9167|    1|    2|  113781|  151.55|C22 C26|       S|\n",
      "|     1|       0|Allison, Miss. He...|female|   2.0|    1|    2|  113781|  151.55|C22 C26|       S|\n",
      "|     1|       0|Allison, Mr. Huds...|  male|  30.0|    1|    2|  113781|  151.55|C22 C26|       S|\n",
      "|     1|       0|Allison, Mrs. Hud...|female|  25.0|    1|    2|  113781|  151.55|C22 C26|       S|\n",
      "|     1|       1| Anderson, Mr. Harry|  male|  48.0|    0|    0|   19952|   26.55|    E12|       S|\n",
      "|     1|       1|Andrews, Miss. Ko...|female|  63.0|    1|    0|   13502| 77.9583|     D7|       S|\n",
      "|     1|       0|Andrews, Mr. Thom...|  male|  39.0|    0|    0|  112050|     0.0|    A36|       S|\n",
      "|     1|       1|Appleton, Mrs. Ed...|female|  53.0|    2|    0|   11769| 51.4792|   C101|       S|\n",
      "|     1|       0|Artagaveytia, Mr....|  male|  71.0|    0|    0|PC 17609| 49.5042|   null|       C|\n",
      "|     1|       0|Astor, Col. John ...|  male|  47.0|    1|    0|PC 17757| 227.525|C62 C64|       C|\n",
      "|     1|       1|Astor, Mrs. John ...|female|  18.0|    1|    0|PC 17757| 227.525|C62 C64|       C|\n",
      "|     1|       1|Aubart, Mme. Leon...|female|  24.0|    0|    0|PC 17477|    69.3|    B35|       C|\n",
      "|     1|       1|\"Barber, Miss. El...|female|  26.0|    0|    0|   19877|   78.85|   null|       S|\n",
      "|     1|       1|Barkworth, Mr. Al...|  male|  80.0|    0|    0|   27042|    30.0|    A23|       S|\n",
      "|     1|       0| Baumann, Mr. John D|  male|  null|    0|    0|PC 17318|  25.925|   null|       S|\n",
      "|     1|       0|Baxter, Mr. Quigg...|  male|  24.0|    0|    1|PC 17558|247.5208|B58 B60|       C|\n",
      "|     1|       1|Baxter, Mrs. Jame...|female|  50.0|    0|    1|PC 17558|247.5208|B58 B60|       C|\n",
      "|     1|       1|Bazzani, Miss. Al...|female|  32.0|    0|    0|   11813| 76.2917|    D15|       C|\n",
      "|     1|       0|Beattie, Mr. Thomson|  male|  36.0|    0|    0|   13050| 75.2417|     C6|       C|\n",
      "+------+--------+--------------------+------+------+-----+-----+--------+--------+-------+--------+\n",
      "only showing top 20 rows\n",
      "\n"
     ]
    }
   ],
   "source": [
    "df4.withColumnRenamed('name', 'new_name').show()"
   ]
  },
  {
   "cell_type": "code",
   "execution_count": 38,
   "id": "4591466a",
   "metadata": {},
   "outputs": [
    {
     "name": "stdout",
     "output_type": "stream",
     "text": [
      "+------+-----------+-------------+------------------+----------+----------+------------------+\n",
      "|   sex|sum(pclass)|sum(survived)|          sum(age)|sum(sibsp)|sum(parch)|         sum(fare)|\n",
      "+------+-----------+-------------+------------------+----------+----------+------------------+\n",
      "|female|       1004|          339|        11130.5834|       304|       295|21528.313000000027|\n",
      "|  male|       2000|          161|20125.083300000002|       349|       209|22022.173899999896|\n",
      "+------+-----------+-------------+------------------+----------+----------+------------------+\n",
      "\n"
     ]
    }
   ],
   "source": [
    "df4.groupBy(\"sex\").sum().show()"
   ]
  },
  {
   "cell_type": "code",
   "execution_count": 40,
   "id": "a6c97eea",
   "metadata": {},
   "outputs": [
    {
     "name": "stdout",
     "output_type": "stream",
     "text": [
      "+------+------+-----+\n",
      "|   sex|pclass|count|\n",
      "+------+------+-----+\n",
      "|female|     1|  144|\n",
      "|  male|     1|  179|\n",
      "|  male|     2|  171|\n",
      "|female|     2|  106|\n",
      "|  male|     3|  493|\n",
      "|female|     3|  216|\n",
      "+------+------+-----+\n",
      "\n"
     ]
    }
   ],
   "source": [
    "df4.groupBy(\"sex\", \"pclass\").count().show()"
   ]
  },
  {
   "cell_type": "code",
   "execution_count": null,
   "id": "5a91bf69",
   "metadata": {},
   "outputs": [],
   "source": []
  }
 ],
 "metadata": {
  "kernelspec": {
   "display_name": "Python 3",
   "language": "python",
   "name": "python3"
  },
  "language_info": {
   "codemirror_mode": {
    "name": "ipython",
    "version": 3
   },
   "file_extension": ".py",
   "mimetype": "text/x-python",
   "name": "python",
   "nbconvert_exporter": "python",
   "pygments_lexer": "ipython3",
   "version": "3.8.8"
  },
  "toc": {
   "base_numbering": 1,
   "nav_menu": {},
   "number_sections": true,
   "sideBar": true,
   "skip_h1_title": false,
   "title_cell": "Table of Contents",
   "title_sidebar": "Contents",
   "toc_cell": false,
   "toc_position": {},
   "toc_section_display": true,
   "toc_window_display": false
  }
 },
 "nbformat": 4,
 "nbformat_minor": 5
}
